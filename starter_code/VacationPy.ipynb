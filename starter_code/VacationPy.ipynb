{
 "cells": [
  {
   "cell_type": "code",
   "execution_count": 1,
   "metadata": {
    "scrolled": true
   },
   "outputs": [
    {
     "name": "stdout",
     "output_type": "stream",
     "text": [
      "Requirement already satisfied: gmaps in c:\\users\\jason\\appdata\\local\\programs\\python\\python38-32\\lib\\site-packages (0.9.0)\n",
      "Requirement already satisfied: ipython>=5.3.0 in c:\\users\\jason\\appdata\\local\\programs\\python\\python38-32\\lib\\site-packages (from gmaps) (7.15.0)\n",
      "Requirement already satisfied: ipywidgets>=7.0.0 in c:\\users\\jason\\appdata\\local\\programs\\python\\python38-32\\lib\\site-packages (from gmaps) (7.5.1)\n",
      "Requirement already satisfied: traitlets>=4.3.0 in c:\\users\\jason\\appdata\\local\\programs\\python\\python38-32\\lib\\site-packages (from gmaps) (4.3.3)\n",
      "Requirement already satisfied: geojson>=2.0.0 in c:\\users\\jason\\appdata\\local\\programs\\python\\python38-32\\lib\\site-packages (from gmaps) (2.5.0)\n",
      "Requirement already satisfied: six in c:\\users\\jason\\appdata\\local\\programs\\python\\python38-32\\lib\\site-packages (from gmaps) (1.15.0)\n",
      "Requirement already satisfied: setuptools>=18.5 in c:\\users\\jason\\appdata\\local\\programs\\python\\python38-32\\lib\\site-packages (from ipython>=5.3.0->gmaps) (41.2.0)\n",
      "Requirement already satisfied: backcall in c:\\users\\jason\\appdata\\local\\programs\\python\\python38-32\\lib\\site-packages (from ipython>=5.3.0->gmaps) (0.2.0)\n",
      "Requirement already satisfied: pygments in c:\\users\\jason\\appdata\\local\\programs\\python\\python38-32\\lib\\site-packages (from ipython>=5.3.0->gmaps) (2.6.1)\n",
      "Requirement already satisfied: prompt-toolkit!=3.0.0,!=3.0.1,<3.1.0,>=2.0.0 in c:\\users\\jason\\appdata\\local\\programs\\python\\python38-32\\lib\\site-packages (from ipython>=5.3.0->gmaps) (3.0.5)\n",
      "Requirement already satisfied: decorator in c:\\users\\jason\\appdata\\local\\programs\\python\\python38-32\\lib\\site-packages (from ipython>=5.3.0->gmaps) (4.4.2)\n",
      "Requirement already satisfied: colorama; sys_platform == \"win32\" in c:\\users\\jason\\appdata\\local\\programs\\python\\python38-32\\lib\\site-packages (from ipython>=5.3.0->gmaps) (0.4.3)\n",
      "Requirement already satisfied: pickleshare in c:\\users\\jason\\appdata\\local\\programs\\python\\python38-32\\lib\\site-packages (from ipython>=5.3.0->gmaps) (0.7.5)\n",
      "Requirement already satisfied: jedi>=0.10 in c:\\users\\jason\\appdata\\local\\programs\\python\\python38-32\\lib\\site-packages (from ipython>=5.3.0->gmaps) (0.17.0)\n",
      "Requirement already satisfied: nbformat>=4.2.0 in c:\\users\\jason\\appdata\\local\\programs\\python\\python38-32\\lib\\site-packages (from ipywidgets>=7.0.0->gmaps) (5.0.7)\n",
      "Requirement already satisfied: widgetsnbextension~=3.5.0 in c:\\users\\jason\\appdata\\local\\programs\\python\\python38-32\\lib\\site-packages (from ipywidgets>=7.0.0->gmaps) (3.5.1)\n",
      "Requirement already satisfied: ipykernel>=4.5.1 in c:\\users\\jason\\appdata\\local\\programs\\python\\python38-32\\lib\\site-packages (from ipywidgets>=7.0.0->gmaps) (5.3.0)\n",
      "Requirement already satisfied: ipython-genutils in c:\\users\\jason\\appdata\\local\\programs\\python\\python38-32\\lib\\site-packages (from traitlets>=4.3.0->gmaps) (0.2.0)\n",
      "Requirement already satisfied: wcwidth in c:\\users\\jason\\appdata\\local\\programs\\python\\python38-32\\lib\\site-packages (from prompt-toolkit!=3.0.0,!=3.0.1,<3.1.0,>=2.0.0->ipython>=5.3.0->gmaps) (0.2.4)\n",
      "Requirement already satisfied: parso>=0.7.0 in c:\\users\\jason\\appdata\\local\\programs\\python\\python38-32\\lib\\site-packages (from jedi>=0.10->ipython>=5.3.0->gmaps) (0.7.0)\n",
      "Requirement already satisfied: jupyter-core in c:\\users\\jason\\appdata\\local\\programs\\python\\python38-32\\lib\\site-packages (from nbformat>=4.2.0->ipywidgets>=7.0.0->gmaps) (4.6.3)\n",
      "Requirement already satisfied: jsonschema!=2.5.0,>=2.4 in c:\\users\\jason\\appdata\\local\\programs\\python\\python38-32\\lib\\site-packages (from nbformat>=4.2.0->ipywidgets>=7.0.0->gmaps) (3.2.0)\n",
      "Requirement already satisfied: notebook>=4.4.1 in c:\\users\\jason\\appdata\\local\\programs\\python\\python38-32\\lib\\site-packages (from widgetsnbextension~=3.5.0->ipywidgets>=7.0.0->gmaps) (6.0.3)\n",
      "Requirement already satisfied: jupyter-client in c:\\users\\jason\\appdata\\local\\programs\\python\\python38-32\\lib\\site-packages (from ipykernel>=4.5.1->ipywidgets>=7.0.0->gmaps) (6.1.3)\n",
      "Requirement already satisfied: tornado>=4.2 in c:\\users\\jason\\appdata\\local\\programs\\python\\python38-32\\lib\\site-packages (from ipykernel>=4.5.1->ipywidgets>=7.0.0->gmaps) (6.0.4)\n",
      "Requirement already satisfied: pywin32>=1.0; sys_platform == \"win32\" in c:\\users\\jason\\appdata\\local\\programs\\python\\python38-32\\lib\\site-packages (from jupyter-core->nbformat>=4.2.0->ipywidgets>=7.0.0->gmaps) (228)\n",
      "Requirement already satisfied: attrs>=17.4.0 in c:\\users\\jason\\appdata\\local\\programs\\python\\python38-32\\lib\\site-packages (from jsonschema!=2.5.0,>=2.4->nbformat>=4.2.0->ipywidgets>=7.0.0->gmaps) (19.3.0)\n",
      "Requirement already satisfied: pyrsistent>=0.14.0 in c:\\users\\jason\\appdata\\local\\programs\\python\\python38-32\\lib\\site-packages (from jsonschema!=2.5.0,>=2.4->nbformat>=4.2.0->ipywidgets>=7.0.0->gmaps) (0.16.0)\n",
      "Requirement already satisfied: pyzmq>=17 in c:\\users\\jason\\appdata\\local\\programs\\python\\python38-32\\lib\\site-packages (from notebook>=4.4.1->widgetsnbextension~=3.5.0->ipywidgets>=7.0.0->gmaps) (19.0.1)\n",
      "Requirement already satisfied: terminado>=0.8.1 in c:\\users\\jason\\appdata\\local\\programs\\python\\python38-32\\lib\\site-packages (from notebook>=4.4.1->widgetsnbextension~=3.5.0->ipywidgets>=7.0.0->gmaps) (0.8.3)\n",
      "Requirement already satisfied: Send2Trash in c:\\users\\jason\\appdata\\local\\programs\\python\\python38-32\\lib\\site-packages (from notebook>=4.4.1->widgetsnbextension~=3.5.0->ipywidgets>=7.0.0->gmaps) (1.5.0)\n",
      "Requirement already satisfied: jinja2 in c:\\users\\jason\\appdata\\local\\programs\\python\\python38-32\\lib\\site-packages (from notebook>=4.4.1->widgetsnbextension~=3.5.0->ipywidgets>=7.0.0->gmaps) (2.11.2)\n",
      "Requirement already satisfied: prometheus-client in c:\\users\\jason\\appdata\\local\\programs\\python\\python38-32\\lib\\site-packages (from notebook>=4.4.1->widgetsnbextension~=3.5.0->ipywidgets>=7.0.0->gmaps) (0.8.0)\n",
      "Requirement already satisfied: nbconvert in c:\\users\\jason\\appdata\\local\\programs\\python\\python38-32\\lib\\site-packages (from notebook>=4.4.1->widgetsnbextension~=3.5.0->ipywidgets>=7.0.0->gmaps) (5.6.1)\n",
      "Requirement already satisfied: python-dateutil>=2.1 in c:\\users\\jason\\appdata\\local\\programs\\python\\python38-32\\lib\\site-packages (from jupyter-client->ipykernel>=4.5.1->ipywidgets>=7.0.0->gmaps) (2.8.1)\n",
      "Requirement already satisfied: pywinpty>=0.5; os_name == \"nt\" in c:\\users\\jason\\appdata\\local\\programs\\python\\python38-32\\lib\\site-packages (from terminado>=0.8.1->notebook>=4.4.1->widgetsnbextension~=3.5.0->ipywidgets>=7.0.0->gmaps) (0.5.7)\n",
      "Requirement already satisfied: MarkupSafe>=0.23 in c:\\users\\jason\\appdata\\local\\programs\\python\\python38-32\\lib\\site-packages (from jinja2->notebook>=4.4.1->widgetsnbextension~=3.5.0->ipywidgets>=7.0.0->gmaps) (1.1.1)\n",
      "Requirement already satisfied: mistune<2,>=0.8.1 in c:\\users\\jason\\appdata\\local\\programs\\python\\python38-32\\lib\\site-packages (from nbconvert->notebook>=4.4.1->widgetsnbextension~=3.5.0->ipywidgets>=7.0.0->gmaps) (0.8.4)\n",
      "Requirement already satisfied: testpath in c:\\users\\jason\\appdata\\local\\programs\\python\\python38-32\\lib\\site-packages (from nbconvert->notebook>=4.4.1->widgetsnbextension~=3.5.0->ipywidgets>=7.0.0->gmaps) (0.4.4)\n",
      "Requirement already satisfied: pandocfilters>=1.4.1 in c:\\users\\jason\\appdata\\local\\programs\\python\\python38-32\\lib\\site-packages (from nbconvert->notebook>=4.4.1->widgetsnbextension~=3.5.0->ipywidgets>=7.0.0->gmaps) (1.4.2)\n",
      "Requirement already satisfied: bleach in c:\\users\\jason\\appdata\\local\\programs\\python\\python38-32\\lib\\site-packages (from nbconvert->notebook>=4.4.1->widgetsnbextension~=3.5.0->ipywidgets>=7.0.0->gmaps) (3.1.5)\n",
      "Requirement already satisfied: defusedxml in c:\\users\\jason\\appdata\\local\\programs\\python\\python38-32\\lib\\site-packages (from nbconvert->notebook>=4.4.1->widgetsnbextension~=3.5.0->ipywidgets>=7.0.0->gmaps) (0.6.0)\n",
      "Requirement already satisfied: entrypoints>=0.2.2 in c:\\users\\jason\\appdata\\local\\programs\\python\\python38-32\\lib\\site-packages (from nbconvert->notebook>=4.4.1->widgetsnbextension~=3.5.0->ipywidgets>=7.0.0->gmaps) (0.3)\n",
      "Requirement already satisfied: webencodings in c:\\users\\jason\\appdata\\local\\programs\\python\\python38-32\\lib\\site-packages (from bleach->nbconvert->notebook>=4.4.1->widgetsnbextension~=3.5.0->ipywidgets>=7.0.0->gmaps) (0.5.1)\n",
      "Requirement already satisfied: packaging in c:\\users\\jason\\appdata\\local\\programs\\python\\python38-32\\lib\\site-packages (from bleach->nbconvert->notebook>=4.4.1->widgetsnbextension~=3.5.0->ipywidgets>=7.0.0->gmaps) (20.4)\n",
      "Requirement already satisfied: pyparsing>=2.0.2 in c:\\users\\jason\\appdata\\local\\programs\\python\\python38-32\\lib\\site-packages (from packaging->bleach->nbconvert->notebook>=4.4.1->widgetsnbextension~=3.5.0->ipywidgets>=7.0.0->gmaps) (2.4.7)\n"
     ]
    },
    {
     "name": "stderr",
     "output_type": "stream",
     "text": [
      "Enabling notebook extension jupyter-gmaps/extension...\n",
      "      - Validating: ok\n"
     ]
    }
   ],
   "source": [
    "!pip install gmaps\n",
    "!jupyter nbextension enable --py --sys-prefix gmaps"
   ]
  },
  {
   "cell_type": "code",
   "execution_count": 2,
   "metadata": {},
   "outputs": [],
   "source": [
    "# Dependencies and Setup\n",
    "\n",
    "import matplotlib.pyplot as plt\n",
    "import pandas as pd\n",
    "import numpy as np\n",
    "import requests\n",
    "import gmaps\n",
    "import os\n",
    "import json\n",
    "\n",
    "# Import API key\n",
    "from configs import g_key"
   ]
  },
  {
   "cell_type": "code",
   "execution_count": 3,
   "metadata": {},
   "outputs": [
    {
     "data": {
      "text/html": [
       "<div>\n",
       "<style scoped>\n",
       "    .dataframe tbody tr th:only-of-type {\n",
       "        vertical-align: middle;\n",
       "    }\n",
       "\n",
       "    .dataframe tbody tr th {\n",
       "        vertical-align: top;\n",
       "    }\n",
       "\n",
       "    .dataframe thead th {\n",
       "        text-align: right;\n",
       "    }\n",
       "</style>\n",
       "<table border=\"1\" class=\"dataframe\">\n",
       "  <thead>\n",
       "    <tr style=\"text-align: right;\">\n",
       "      <th></th>\n",
       "      <th>City</th>\n",
       "      <th>Lat</th>\n",
       "      <th>Lng</th>\n",
       "      <th>Max Temp</th>\n",
       "      <th>Humidity</th>\n",
       "      <th>Cloudiness</th>\n",
       "      <th>Wind Speed</th>\n",
       "      <th>Country</th>\n",
       "      <th>Date</th>\n",
       "    </tr>\n",
       "  </thead>\n",
       "  <tbody>\n",
       "    <tr>\n",
       "      <th>0</th>\n",
       "      <td>saint george</td>\n",
       "      <td>37.10</td>\n",
       "      <td>-113.58</td>\n",
       "      <td>73.400</td>\n",
       "      <td>20</td>\n",
       "      <td>1</td>\n",
       "      <td>9.171439</td>\n",
       "      <td>US</td>\n",
       "      <td>1593089596</td>\n",
       "    </tr>\n",
       "    <tr>\n",
       "      <th>1</th>\n",
       "      <td>busselton</td>\n",
       "      <td>-33.65</td>\n",
       "      <td>115.33</td>\n",
       "      <td>57.002</td>\n",
       "      <td>55</td>\n",
       "      <td>5</td>\n",
       "      <td>8.522727</td>\n",
       "      <td>AU</td>\n",
       "      <td>1593089596</td>\n",
       "    </tr>\n",
       "    <tr>\n",
       "      <th>2</th>\n",
       "      <td>pimentel</td>\n",
       "      <td>-6.84</td>\n",
       "      <td>-79.93</td>\n",
       "      <td>60.800</td>\n",
       "      <td>87</td>\n",
       "      <td>92</td>\n",
       "      <td>6.934503</td>\n",
       "      <td>PE</td>\n",
       "      <td>1593089596</td>\n",
       "    </tr>\n",
       "    <tr>\n",
       "      <th>3</th>\n",
       "      <td>rikitea</td>\n",
       "      <td>-23.12</td>\n",
       "      <td>-134.97</td>\n",
       "      <td>72.374</td>\n",
       "      <td>74</td>\n",
       "      <td>2</td>\n",
       "      <td>13.690050</td>\n",
       "      <td>PF</td>\n",
       "      <td>1593089596</td>\n",
       "    </tr>\n",
       "    <tr>\n",
       "      <th>4</th>\n",
       "      <td>faanui</td>\n",
       "      <td>-16.48</td>\n",
       "      <td>-151.75</td>\n",
       "      <td>78.566</td>\n",
       "      <td>88</td>\n",
       "      <td>6</td>\n",
       "      <td>16.844130</td>\n",
       "      <td>PF</td>\n",
       "      <td>1593089596</td>\n",
       "    </tr>\n",
       "  </tbody>\n",
       "</table>\n",
       "</div>"
      ],
      "text/plain": [
       "           City    Lat     Lng  Max Temp  Humidity  Cloudiness  Wind Speed  \\\n",
       "0  saint george  37.10 -113.58    73.400        20           1    9.171439   \n",
       "1     busselton -33.65  115.33    57.002        55           5    8.522727   \n",
       "2      pimentel  -6.84  -79.93    60.800        87          92    6.934503   \n",
       "3       rikitea -23.12 -134.97    72.374        74           2   13.690050   \n",
       "4        faanui -16.48 -151.75    78.566        88           6   16.844130   \n",
       "\n",
       "  Country        Date  \n",
       "0      US  1593089596  \n",
       "1      AU  1593089596  \n",
       "2      PE  1593089596  \n",
       "3      PF  1593089596  \n",
       "4      PF  1593089596  "
      ]
     },
     "execution_count": 3,
     "metadata": {},
     "output_type": "execute_result"
    }
   ],
   "source": [
    "#Load csv in part 1 to a dataframe\n",
    "\n",
    "#clean city data filepath\n",
    "path = \"../output_data/clean_city_data.csv\"\n",
    "\n",
    "city_df = pd.read_csv(path)\n",
    "city_df = city_df.dropna()\n",
    "city_df.head()\n"
   ]
  },
  {
   "cell_type": "markdown",
   "metadata": {},
   "source": [
    "# Humidity Heatmap"
   ]
  },
  {
   "cell_type": "code",
   "execution_count": 4,
   "metadata": {},
   "outputs": [],
   "source": [
    "#Configure gmaps\n",
    "gmaps.configure(api_key=g_key)"
   ]
  },
  {
   "cell_type": "code",
   "execution_count": 5,
   "metadata": {},
   "outputs": [],
   "source": [
    "#Store Lat and Lng into locatins\n",
    "locations = city_df[[\"Lat\", \"Lng\"]]\n",
    "\n",
    "#Store humidity into humidity\n",
    "humidity = city_df[\"Humidity\"].astype(float)"
   ]
  },
  {
   "cell_type": "code",
   "execution_count": 6,
   "metadata": {},
   "outputs": [
    {
     "data": {
      "application/vnd.jupyter.widget-view+json": {
       "model_id": "8b277ee96737402ea4765cfb773972ea",
       "version_major": 2,
       "version_minor": 0
      },
      "text/plain": [
       "Figure(layout=FigureLayout(height='420px'))"
      ]
     },
     "metadata": {},
     "output_type": "display_data"
    }
   ],
   "source": [
    "#Create humidity Heatmap layer\n",
    "fig = gmaps.figure()\n",
    "\n",
    "humid_layer = gmaps.heatmap_layer(locations, weights = humidity, dissipating = False,\n",
    "                                 max_intensity = 100, point_radius = 1)\n",
    "\n",
    "fig.add_layer(humid_layer)\n",
    "\n",
    "fig"
   ]
  },
  {
   "cell_type": "markdown",
   "metadata": {},
   "source": [
    "# Create new DataFrame fitting weather criteria"
   ]
  },
  {
   "cell_type": "code",
   "execution_count": 7,
   "metadata": {},
   "outputs": [],
   "source": [
    "#Narrow down cities to fit weather conditions\n",
    "\n",
    "#Filter cities with max temps between 60 and 90 degrees\n",
    "comfortable_df = city_df.loc[(city_df[\"Max Temp\"] > 60) & (city_df[\"Max Temp\"] < 90), :]\n",
    "#filter by humidity below 80 percent\n",
    "comfortable_df = comfortable_df.loc[(comfortable_df[\"Humidity\"] < 80), :]\n",
    "#filter by wind speed below 10 mph\n",
    "comfortable_df = comfortable_df.loc[(comfortable_df[\"Wind Speed\"] < 10), :]\n",
    "#filter by cloudiness below 50 %\n",
    "comfortable_df = comfortable_df.loc[(comfortable_df[\"Cloudiness\"] < 50), :]\n",
    "\n",
    "#drop rows with na values\n",
    "comfortable_df = comfortable_df.dropna()"
   ]
  },
  {
   "cell_type": "code",
   "execution_count": 8,
   "metadata": {},
   "outputs": [
    {
     "name": "stdout",
     "output_type": "stream",
     "text": [
      "Issues with finding a hotel at aripuana\n",
      "Issues with finding a hotel at belaya gora\n",
      "Issues with finding a hotel at verkhoyansk\n",
      "Issues with finding a hotel at kedrovyy\n",
      "Issues with finding a hotel at niquero\n",
      "Issues with finding a hotel at chokurdakh\n",
      "Issues with finding a hotel at kuloy\n",
      "Issues with finding a hotel at aykhal\n",
      "Issues with finding a hotel at sinegorye\n",
      "Issues with finding a hotel at kamenka\n",
      "Issues with finding a hotel at sangar\n",
      "Issues with finding a hotel at praxedis guerrero\n",
      "Issues with finding a hotel at uvinza\n",
      "Issues with finding a hotel at dauriya\n",
      "Issues with finding a hotel at dekar\n",
      "Issues with finding a hotel at alekseyevsk\n",
      "Issues with finding a hotel at rachitoasa\n"
     ]
    },
    {
     "data": {
      "text/html": [
       "<div>\n",
       "<style scoped>\n",
       "    .dataframe tbody tr th:only-of-type {\n",
       "        vertical-align: middle;\n",
       "    }\n",
       "\n",
       "    .dataframe tbody tr th {\n",
       "        vertical-align: top;\n",
       "    }\n",
       "\n",
       "    .dataframe thead th {\n",
       "        text-align: right;\n",
       "    }\n",
       "</style>\n",
       "<table border=\"1\" class=\"dataframe\">\n",
       "  <thead>\n",
       "    <tr style=\"text-align: right;\">\n",
       "      <th></th>\n",
       "      <th>City</th>\n",
       "      <th>Lat</th>\n",
       "      <th>Lng</th>\n",
       "      <th>Max Temp</th>\n",
       "      <th>Humidity</th>\n",
       "      <th>Cloudiness</th>\n",
       "      <th>Wind Speed</th>\n",
       "      <th>Country</th>\n",
       "      <th>Date</th>\n",
       "      <th>Hotel Name</th>\n",
       "    </tr>\n",
       "  </thead>\n",
       "  <tbody>\n",
       "    <tr>\n",
       "      <th>0</th>\n",
       "      <td>saint george</td>\n",
       "      <td>37.10</td>\n",
       "      <td>-113.58</td>\n",
       "      <td>73.400</td>\n",
       "      <td>20</td>\n",
       "      <td>1</td>\n",
       "      <td>9.171439</td>\n",
       "      <td>US</td>\n",
       "      <td>1593089596</td>\n",
       "      <td>Best Western Plus Abbey Inn</td>\n",
       "    </tr>\n",
       "    <tr>\n",
       "      <th>8</th>\n",
       "      <td>east london</td>\n",
       "      <td>-33.02</td>\n",
       "      <td>27.91</td>\n",
       "      <td>78.800</td>\n",
       "      <td>20</td>\n",
       "      <td>0</td>\n",
       "      <td>5.816034</td>\n",
       "      <td>ZA</td>\n",
       "      <td>1593089596</td>\n",
       "      <td>Tu Casa</td>\n",
       "    </tr>\n",
       "    <tr>\n",
       "      <th>9</th>\n",
       "      <td>port alfred</td>\n",
       "      <td>-33.59</td>\n",
       "      <td>26.89</td>\n",
       "      <td>84.002</td>\n",
       "      <td>22</td>\n",
       "      <td>0</td>\n",
       "      <td>7.001611</td>\n",
       "      <td>ZA</td>\n",
       "      <td>1593089596</td>\n",
       "      <td>The Halyards Hotel</td>\n",
       "    </tr>\n",
       "    <tr>\n",
       "      <th>16</th>\n",
       "      <td>paldiski</td>\n",
       "      <td>59.36</td>\n",
       "      <td>24.05</td>\n",
       "      <td>78.800</td>\n",
       "      <td>39</td>\n",
       "      <td>0</td>\n",
       "      <td>9.171439</td>\n",
       "      <td>EE</td>\n",
       "      <td>1593089598</td>\n",
       "      <td>Pakri Hostel</td>\n",
       "    </tr>\n",
       "    <tr>\n",
       "      <th>23</th>\n",
       "      <td>jamestown</td>\n",
       "      <td>42.10</td>\n",
       "      <td>-79.24</td>\n",
       "      <td>60.800</td>\n",
       "      <td>77</td>\n",
       "      <td>20</td>\n",
       "      <td>5.816034</td>\n",
       "      <td>US</td>\n",
       "      <td>1593089406</td>\n",
       "      <td>Hampton Inn &amp; Suites Jamestown</td>\n",
       "    </tr>\n",
       "  </tbody>\n",
       "</table>\n",
       "</div>"
      ],
      "text/plain": [
       "            City    Lat     Lng  Max Temp  Humidity  Cloudiness  Wind Speed  \\\n",
       "0   saint george  37.10 -113.58    73.400        20           1    9.171439   \n",
       "8    east london -33.02   27.91    78.800        20           0    5.816034   \n",
       "9    port alfred -33.59   26.89    84.002        22           0    7.001611   \n",
       "16      paldiski  59.36   24.05    78.800        39           0    9.171439   \n",
       "23     jamestown  42.10  -79.24    60.800        77          20    5.816034   \n",
       "\n",
       "   Country        Date                      Hotel Name  \n",
       "0       US  1593089596     Best Western Plus Abbey Inn  \n",
       "8       ZA  1593089596                         Tu Casa  \n",
       "9       ZA  1593089596              The Halyards Hotel  \n",
       "16      EE  1593089598                    Pakri Hostel  \n",
       "23      US  1593089406  Hampton Inn & Suites Jamestown  "
      ]
     },
     "execution_count": 8,
     "metadata": {},
     "output_type": "execute_result"
    }
   ],
   "source": [
    "#store into variable 'hotel_df'\n",
    "hotel_df = comfortable_df\n",
    "#adds column \"Hotel_name\"\n",
    "hotel_df[\"Hotel Name\"] = \"\"\n",
    "\n",
    "#finding a hotel within 5000 meters of our most comfortable cities\n",
    "base_url = \"https://maps.googleapis.com/maps/api/place/nearbysearch/json\"\n",
    "for index, row in hotel_df.iterrows():\n",
    "    lat = row.Lat\n",
    "    lng = row.Lng\n",
    "    params = {\n",
    "        \"location\": f'{lat}, {lng}',\n",
    "        \"radius\": 5000,\n",
    "        \"key\" : g_key,\n",
    "        \"type\" : \"lodging\"\n",
    "    }\n",
    "    response = requests.get(base_url, params = params).json()\n",
    "    #updates df with the hotel name\n",
    "    try:\n",
    "        hotel_df.loc[index, \"Hotel Name\"] = response['results'][0]['name']\n",
    "    #displays message about the issue city and adds \"NA\" to hold the Hotel name's place\n",
    "    except:\n",
    "        print(f'Issues with finding a hotel at {row[\"City\"]}')\n",
    "        hotel_df.loc[index, \"Hotel Name\"] = \"NA\"\n",
    "        \n",
    "hotel_df.head()"
   ]
  },
  {
   "cell_type": "code",
   "execution_count": 9,
   "metadata": {},
   "outputs": [],
   "source": [
    "#deletes any rows without hotels in 5000 meters\n",
    "hotel_df = hotel_df[hotel_df[\"Hotel Name\"] != \"NA\"]"
   ]
  },
  {
   "cell_type": "code",
   "execution_count": 10,
   "metadata": {},
   "outputs": [
    {
     "data": {
      "application/vnd.jupyter.widget-view+json": {
       "model_id": "8b277ee96737402ea4765cfb773972ea",
       "version_major": 2,
       "version_minor": 0
      },
      "text/plain": [
       "Figure(layout=FigureLayout(height='420px'))"
      ]
     },
     "metadata": {},
     "output_type": "display_data"
    }
   ],
   "source": [
    "# NOTE: Do not change any of the code in this cell\n",
    "\n",
    "# Using the template add the hotel marks to the heatmap\n",
    "info_box_template = \"\"\"\n",
    "<dl>\n",
    "<dt>Name</dt><dd>{Hotel Name}</dd>\n",
    "<dt>City</dt><dd>{City}</dd>\n",
    "<dt>Country</dt><dd>{Country}</dd>\n",
    "</dl>\n",
    "\"\"\"\n",
    "# Store the DataFrame Row\n",
    "# NOTE: be sure to update with your DataFrame name\n",
    "hotel_info = [info_box_template.format(**row) for index, row in hotel_df.iterrows()]\n",
    "locations = hotel_df[[\"Lat\", \"Lng\"]]\n",
    "\n",
    "#Add markers on top of the heatmap\n",
    "hotel_layer = gmaps.symbol_layer(\n",
    "    locations, fill_color = \"blue\",\n",
    "    stroke_color = 'black', scale = 2,\n",
    "    info_box_content = hotel_info)\n",
    "\n",
    "fig.add_layer(hotel_layer)\n",
    "\n",
    "#display figure\n",
    "fig"
   ]
  },
  {
   "cell_type": "code",
   "execution_count": null,
   "metadata": {},
   "outputs": [],
   "source": []
  }
 ],
 "metadata": {
  "kernelspec": {
   "display_name": "Python 3",
   "language": "python",
   "name": "python3"
  },
  "language_info": {
   "codemirror_mode": {
    "name": "ipython",
    "version": 3
   },
   "file_extension": ".py",
   "mimetype": "text/x-python",
   "name": "python",
   "nbconvert_exporter": "python",
   "pygments_lexer": "ipython3",
   "version": "3.8.3"
  }
 },
 "nbformat": 4,
 "nbformat_minor": 4
}
